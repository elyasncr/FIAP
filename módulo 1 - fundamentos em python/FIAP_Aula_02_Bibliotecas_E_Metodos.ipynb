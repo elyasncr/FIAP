{
  "nbformat": 4,
  "nbformat_minor": 0,
  "metadata": {
    "colab": {
      "provenance": []
    },
    "kernelspec": {
      "name": "python3",
      "display_name": "Python 3"
    },
    "language_info": {
      "name": "python"
    }
  },
  "cells": [
    {
      "cell_type": "markdown",
      "metadata": {
        "id": "61jTjuIfal1w"
      },
      "source": [
        "## Bibliotecas\n",
        "\n",
        "Durante o curso, já tivemos contato com algumas **bibliotecas** (também chamadas de **pacotes** ou **módulos**), como a `datetime` e a `unicodedata`\n",
        "\n",
        "Uma biblioteca nada mais é que **uma coleção de funções prontas**, ou seja, \"incrementos adicionais\" do python puro, que podem ser utilizadas pra fazer tarefas específicas"
      ]
    },
    {
      "cell_type": "markdown",
      "metadata": {
        "id": "DO0gCHjwal1w"
      },
      "source": [
        "Podemos dar um \"apelido\" para a biblioteca, que em python é chamado de \"alias\".\n",
        "\n",
        "Para isso, usamos a estrutura:\n",
        "\n",
        "```python\n",
        "import nome_da_biblioteca as apelido_da_biblioteca\n",
        "```\n",
        "Assim, quando formos nos referir à biblioteca para utilizar uma de suas funções, usamos o seu apelido, ao invés de seu nome completo\n",
        "\n",
        "Por exemplo, podemo simportar a biblioteca datetime com o apelido \"dt\""
      ]
    },
    {
      "cell_type": "code",
      "execution_count": null,
      "metadata": {
        "id": "R23Up9J0al1w"
      },
      "outputs": [],
      "source": [
        "import datetime as dt"
      ]
    },
    {
      "cell_type": "markdown",
      "metadata": {
        "id": "Yy-YUNnNal1w"
      },
      "source": [
        "Para instalarmos uma biblioteca nova, abrimos o **terminal**, e usamos:\n",
        "\n",
        "```pip install nome_da_biblioteca```\n",
        "\n",
        "ou\n",
        "\n",
        "```conda install nome_da_biblioteca```\n",
        "\n",
        "\n",
        "Se quisermos uma versão específica,\n",
        "\n",
        "```pip install nume_da_biblioteca==numero_da_versao```\n",
        "\n",
        "Outra forma de instalar bibliotecas diretamente no Jupyter, é digitar em alguma célula de código exatamente os códigos acima, mas com um \"!\" no início. Por exemplo,\n",
        "\n",
        "```!pip install nome_da_biblioteca```"
      ]
    },
    {
      "cell_type": "markdown",
      "metadata": {
        "id": "YZk2GKstal1x"
      },
      "source": [
        "Um ótimo site para referência de bibliotecas em Python: https://pypi.org/"
      ]
    },
    {
      "cell_type": "markdown",
      "source": [
        "Bibliotecas nativas X bibliotecas de terceiros\n",
        "\n",
        "Em Python, bibliotecas podem ser classificadas em duas categorias principais: bibliotecas nativas (também conhecidas como bibliotecas padrão) e bibliotecas de terceiros. Vamos entender cada uma delas:"
      ],
      "metadata": {
        "id": "zExHVeV-cwt8"
      }
    },
    {
      "cell_type": "markdown",
      "source": [
        "- Bibliotecas Nativas (Padrão):\n",
        "\n",
        "\n",
        "    As bibliotecas nativas são aquelas que vêm incluídas na instalação padrão do Python. Elas oferecem funcionalidades básicas que são essenciais para o funcionamento do próprio Python. Algumas dessas bibliotecas incluem:\n",
        "\n",
        "    math: Fornece funções matemáticas básicas.\n",
        "    os: Oferece funcionalidades relacionadas ao sistema operacional, como manipulação de arquivos e diretórios.\n",
        "    sys: Possui funcionalidades que interagem com o interpretador Python e o ambiente de execução.\n",
        "    datetime: Permite manipulação de datas e horas.\n",
        "    random: Oferece funções para geração de números aleatórios.\n"
      ],
      "metadata": {
        "id": "rYYiVvpec2It"
      }
    },
    {
      "cell_type": "markdown",
      "source": [
        "Exemplo de uso de uma biblioteca nativa:"
      ],
      "metadata": {
        "id": "AWnPUL7PdGRq"
      }
    },
    {
      "cell_type": "code",
      "source": [
        "import math\n",
        "\n",
        "# Exemplo: calcular a raiz quadrada de 25\n",
        "resultado = math.sqrt(25)\n",
        "print(resultado)\n"
      ],
      "metadata": {
        "colab": {
          "base_uri": "https://localhost:8080/"
        },
        "id": "UMW72aCcdHFk",
        "outputId": "7259ad1a-b5d0-489e-ef35-2591e8a414bb"
      },
      "execution_count": 1,
      "outputs": [
        {
          "output_type": "stream",
          "name": "stdout",
          "text": [
            "5.0\n"
          ]
        }
      ]
    },
    {
      "cell_type": "markdown",
      "source": [
        "Bibliotecas de Terceiros:"
      ],
      "metadata": {
        "id": "OdAUXtIydYxv"
      }
    },
    {
      "cell_type": "markdown",
      "source": [
        "    Bibliotecas de terceiros são desenvolvidas por membros da comunidade Python e não vêm incluídas na instalação padrão. Elas geralmente são distribuídas e instaladas usando ferramentas como pip. Alguns exemplos de bibliotecas de terceiros incluem:\n",
        "\n",
        "    requests: Usada para fazer requisições HTTP.\n",
        "    numpy: Oferece suporte para arrays multidimensionais e operações matemáticas.\n",
        "    pandas: Utilizada para manipulação e análise de dados.\n",
        "    matplotlib: Biblioteca de visualização de dados.\n",
        "    flask: Framework para construir aplicativos web."
      ],
      "metadata": {
        "id": "nrBqNfuIdZrW"
      }
    },
    {
      "cell_type": "markdown",
      "source": [
        "Exemplo de uso de uma biblioteca de terceiros (certifique-se de instalar a biblioteca primeiro usando pip install nome_da_biblioteca):"
      ],
      "metadata": {
        "id": "_h147QOedjRl"
      }
    },
    {
      "cell_type": "code",
      "source": [
        "!pip install requests"
      ],
      "metadata": {
        "colab": {
          "base_uri": "https://localhost:8080/"
        },
        "id": "rwHFR_LRd6Ju",
        "outputId": "d62cfdab-1210-4601-9365-8337dfd4e0e7"
      },
      "execution_count": 2,
      "outputs": [
        {
          "output_type": "stream",
          "name": "stdout",
          "text": [
            "Requirement already satisfied: requests in /usr/local/lib/python3.10/dist-packages (2.31.0)\n",
            "Requirement already satisfied: charset-normalizer<4,>=2 in /usr/local/lib/python3.10/dist-packages (from requests) (3.3.2)\n",
            "Requirement already satisfied: idna<4,>=2.5 in /usr/local/lib/python3.10/dist-packages (from requests) (3.6)\n",
            "Requirement already satisfied: urllib3<3,>=1.21.1 in /usr/local/lib/python3.10/dist-packages (from requests) (2.0.7)\n",
            "Requirement already satisfied: certifi>=2017.4.17 in /usr/local/lib/python3.10/dist-packages (from requests) (2023.11.17)\n"
          ]
        }
      ]
    },
    {
      "cell_type": "markdown",
      "source": [
        "https://pypi.org/project/requests/"
      ],
      "metadata": {
        "id": "POgVWkl_fssA"
      }
    },
    {
      "cell_type": "code",
      "source": [
        "# !pip install requests==2.31.0"
      ],
      "metadata": {
        "colab": {
          "base_uri": "https://localhost:8080/"
        },
        "id": "lX7Yl1xwfkuy",
        "outputId": "15326d8e-8921-4c32-8bee-ed85ce998569"
      },
      "execution_count": null,
      "outputs": [
        {
          "output_type": "stream",
          "name": "stdout",
          "text": [
            "Requirement already satisfied: requests==2.31.0 in /usr/local/lib/python3.10/dist-packages (2.31.0)\n",
            "Requirement already satisfied: charset-normalizer<4,>=2 in /usr/local/lib/python3.10/dist-packages (from requests==2.31.0) (3.3.2)\n",
            "Requirement already satisfied: idna<4,>=2.5 in /usr/local/lib/python3.10/dist-packages (from requests==2.31.0) (3.6)\n",
            "Requirement already satisfied: urllib3<3,>=1.21.1 in /usr/local/lib/python3.10/dist-packages (from requests==2.31.0) (2.0.7)\n",
            "Requirement already satisfied: certifi>=2017.4.17 in /usr/local/lib/python3.10/dist-packages (from requests==2.31.0) (2023.11.17)\n"
          ]
        }
      ]
    },
    {
      "cell_type": "code",
      "source": [
        "import requests\n",
        "\n",
        "# Exemplo: fazer uma requisição HTTP\n",
        "resposta = requests.get(\"https://www.google.com\")\n",
        "print(resposta.status_code)\n"
      ],
      "metadata": {
        "colab": {
          "base_uri": "https://localhost:8080/"
        },
        "id": "TkOReV7xex1J",
        "outputId": "faaac55f-dbed-4d23-8dca-29759b6ee5f9"
      },
      "execution_count": 3,
      "outputs": [
        {
          "output_type": "stream",
          "name": "stdout",
          "text": [
            "200\n"
          ]
        }
      ]
    },
    {
      "cell_type": "markdown",
      "source": [
        "Headers: Alguns servidores podem exigir headers específicos para autorizar a solicitação. Tente adicionar headers à sua requisição. Por exemplo:"
      ],
      "metadata": {
        "id": "frtJWNzPeQY5"
      }
    },
    {
      "cell_type": "code",
      "source": [
        "import requests\n",
        "\n",
        "# Exemplo: fazer uma requisição HTTP\n",
        "headers = {'User-Agent': 'Mozilla/5.0 (Windows NT 10.0; Win64; x64) AppleWebKit/537.36 (KHTML, like Gecko) Chrome/58.0.3029.110 Safari/537.3'}\n",
        "resposta = requests.get(\"https://postech.fiap.com.br/curso/machine-learning-engineering/\", headers=headers)\n",
        "\n",
        "print(resposta.status_code)\n"
      ],
      "metadata": {
        "colab": {
          "base_uri": "https://localhost:8080/"
        },
        "id": "cT8dkkTTdkN5",
        "outputId": "e764c008-338f-4c9d-fc14-74c07364d341"
      },
      "execution_count": 4,
      "outputs": [
        {
          "output_type": "stream",
          "name": "stdout",
          "text": [
            "200\n"
          ]
        }
      ]
    },
    {
      "cell_type": "markdown",
      "source": [
        "Explicação:\n",
        "\n",
        "    A razão pela qual esse cabeçalho é incluído é porque alguns servidores web podem analisar o cabeçalho \"User-Agent\" para identificar o navegador ou o cliente que está fazendo a solicitação. Isso pode ser útil para otimizar o conteúdo ou para aplicar políticas diferentes com base no tipo de cliente.\n",
        "\n",
        "    Aqui está uma explicação dos componentes dessa string:\n",
        "\n",
        "    Mozilla/5.0: Isso é uma parte padrão que indica a compatibilidade geral com o Mozilla.\n",
        "\n",
        "    (Windows NT 10.0; Win64; x64): Indica o sistema operacional (Windows NT 10.0) e a arquitetura (Win64; x64).\n",
        "\n",
        "    AppleWebKit/537.36 (KHTML, like Gecko): Essa parte refere-se ao mecanismo de renderização do navegador, no caso, o WebKit. \"KHTML, like Gecko\" é uma descrição que indica que o navegador é semelhante ao Gecko (usado pelo Firefox).\n",
        "\n",
        "    Chrome/58.0.3029.110 Safari/537.3: Essa parte específica a versão do navegador. No exemplo, a versão do Chrome é 58.0.3029.110, e a versão do Safari é 537.3.\n",
        "\n",
        "    Quando você inclui esse cabeçalho em sua solicitação HTTP usando o requests, está basicamente informando ao servidor que está fazendo a solicitação que você está usando um navegador semelhante ao Google Chrome na versão especificada. Isso pode ajudar a contornar problemas em que o servidor rejeitaria solicitações de clientes que não são navegadores padrão."
      ],
      "metadata": {
        "id": "GHdbkPwkenQZ"
      }
    },
    {
      "cell_type": "markdown",
      "source": [
        "Como descobrir o \"headers\" correto:\n",
        "\n",
        "\n",
        "- Se o site tiver uma API pública, consulte a documentação da API.\n",
        "\n",
        "\n",
        "- Se for um site normal, a inspeção de rede nas ferramentas de desenvolvedor do navegador pode fornecer informações úteis.\n",
        "\n",
        "\n",
        "- Em alguns casos, o próprio site pode indicar os headers necessários em mensagens de erro ou redirecionamentos."
      ],
      "metadata": {
        "id": "cihUFdS8fSN4"
      }
    },
    {
      "cell_type": "markdown",
      "source": [
        "## Exercicios"
      ],
      "metadata": {
        "id": "cR39h7l3gHLE"
      }
    },
    {
      "cell_type": "markdown",
      "metadata": {
        "id": "Q_FH4YjUal1x"
      },
      "source": [
        "Para fazer os exercícios a seguir, é nécessário utilizar a biblioteca [random](https://docs.python.org/3/library/random.html)!"
      ]
    },
    {
      "cell_type": "markdown",
      "metadata": {
        "id": "1VYKxHpFal1x"
      },
      "source": [
        "1. Faça uma função que sorteia 10 números aleatórios entre 0 e 100 e retorna o maior entre eles.\n"
      ]
    },
    {
      "cell_type": "code",
      "execution_count": 5,
      "metadata": {
        "colab": {
          "base_uri": "https://localhost:8080/"
        },
        "id": "mpsVx6lIal1x",
        "outputId": "e05b50d6-fb16-434b-920a-62cd511b2ab1"
      },
      "outputs": [
        {
          "output_type": "stream",
          "name": "stdout",
          "text": [
            "[11, 100, 79, 14, 22, 45, 90, 76, 86, 82]\n",
            "Maior número da lista acima: 100\n"
          ]
        }
      ],
      "source": [
        "import random\n",
        "\n",
        "lista_nums_aleatorios = []\n",
        "\n",
        "for i in range(10):\n",
        "\n",
        "    lista_nums_aleatorios.append(random.randint(0, 100))\n",
        "\n",
        "print(lista_nums_aleatorios)\n",
        "\n",
        "print(\"Maior número da lista acima:\", max(lista_nums_aleatorios))"
      ]
    },
    {
      "cell_type": "markdown",
      "source": [
        "2. Faça uma função que recebe um número n de entrada, sorteia n números aleatórios entre 0 e 100 e retorna a média deles."
      ],
      "metadata": {
        "id": "mlXsgNKXa7_d"
      }
    },
    {
      "cell_type": "code",
      "execution_count": 6,
      "metadata": {
        "id": "p_R7gtMmal1x"
      },
      "outputs": [],
      "source": [
        "# exercicio 7) - com função e número n\n",
        "\n",
        "def maior_aleatorio(n):\n",
        "\n",
        "    random.seed()\n",
        "    lista = random.sample(range(101), n)\n",
        "\n",
        "    print(lista)\n",
        "\n",
        "    return max(lista)"
      ]
    },
    {
      "cell_type": "code",
      "source": [
        "maior_aleatorio(5)"
      ],
      "metadata": {
        "colab": {
          "base_uri": "https://localhost:8080/"
        },
        "id": "wi-fOlPgbMH8",
        "outputId": "172b70d7-8194-4a48-fb56-6649f0adad04"
      },
      "execution_count": 7,
      "outputs": [
        {
          "output_type": "stream",
          "name": "stdout",
          "text": [
            "[3, 5, 45, 55, 12]\n"
          ]
        },
        {
          "output_type": "execute_result",
          "data": {
            "text/plain": [
              "55"
            ]
          },
          "metadata": {},
          "execution_count": 7
        }
      ]
    },
    {
      "cell_type": "code",
      "execution_count": 8,
      "metadata": {
        "colab": {
          "base_uri": "https://localhost:8080/"
        },
        "id": "Fge6OX4xal1y",
        "outputId": "5d7aa52a-9e67-4038-e650-928aed14890c"
      },
      "outputs": [
        {
          "output_type": "stream",
          "name": "stdout",
          "text": [
            "[7, 68, 61, 15, 62]\n"
          ]
        },
        {
          "output_type": "execute_result",
          "data": {
            "text/plain": [
              "42.6"
            ]
          },
          "metadata": {},
          "execution_count": 8
        }
      ],
      "source": [
        "# exercicio 2)\n",
        "\n",
        "def media_aleatorio(n):\n",
        "\n",
        "    random.seed()\n",
        "    lista = random.sample(range(101), n)\n",
        "\n",
        "    print(lista)\n",
        "\n",
        "    return sum(lista)/len(lista)\n",
        "\n",
        "media_aleatorio(5)"
      ]
    },
    {
      "cell_type": "markdown",
      "metadata": {
        "id": "so_B3BI4bxWT"
      },
      "source": [
        "## 1) Arquivos em Python\n",
        "\n",
        "Todos os programas que fizemos até o momento tinham variáveis, input e output **temporários**, guardados na memória RAM do computador **enquanto o programa é executado**.\n",
        "\n",
        "Após o programa ser finalizado, todas as variáveis, inputs e outputs eram perdidos.\n",
        "\n",
        "Muitas vezes queremos que esses valores sejam armazenados, que os dados processados pelo programa sejam preservados. O termo para esta característica é **persistência de dados**.\n",
        "\n",
        "A persistência se dá através de **arquivos**: documentos criados para **armazenar dados em uma memória permanente**, como o **disco rígido**, um **USB** ou um **servidor web**."
      ]
    },
    {
      "cell_type": "markdown",
      "metadata": {
        "id": "c6k9jSMabxWT"
      },
      "source": [
        "O Python têm algumas funções padrão para a manipulação de arquivos. Vamos vê-las!"
      ]
    },
    {
      "cell_type": "markdown",
      "metadata": {
        "id": "VruUG5BmbxWV"
      },
      "source": [
        "A função `open()` é usada pra abrir arquivos existentes ou criar um arquivo novo.\n",
        "\n",
        "Ela possui 2 argumentos: o primeiro é o caminho do arquivo, com seu nome (se apenas o nome do arquivo for passado, isso é interpretado como o arquivo estando na mesma pasta que o código!); e o segundo é o modo de operação. Os modos são:\n",
        "\n",
        "- r -\tlê um arquivo existente\n",
        "- w -\tAbre um arquivo para escrita (cria caso não exista)\n",
        "- a -\tabre um arquivo existente para adicionar informações ao seu final\n",
        "- x -   Cria um arquivo novo\n",
        "- \\+ -\tao ser combinado com outros modos, permite alteração de arquivo já existente (ex: r+ abre um arquivo existente e permite modificá-lo)\n",
        "\n",
        "O terceiro argumento é o \"encoding\", que dá a codificação do arquivo. Pra evitar problemas, é legal sempre usar `encoding=\"utf-8\"`"
      ]
    },
    {
      "cell_type": "code",
      "source": [
        "# Lista de nomes\n",
        "nomes = [\"André\", \"João\", \"Maria\"]\n",
        "\n",
        "# Abrir o arquivo \"nomes_2.txt\" para escrita ('w') com codificação UTF-8\n",
        "# O arquivo será criado se não existir, ou truncado (esvaziado) se existir\n",
        "f = open(\"nomes.txt\", \"w\", encoding=\"utf-8\")\n",
        "\n",
        "# Iterar sobre os nomes na lista\n",
        "for item in nomes:\n",
        "    # Escrever cada nome no arquivo\n",
        "    f.write(item)\n",
        "    # Adicionar uma quebra de linha para separar os nomes\n",
        "    f.write(\"\\n\")\n",
        "\n",
        "# Fechar o arquivo após escrever todos os nomes\n",
        "f.close()\n"
      ],
      "metadata": {
        "id": "rBtgM7LaCR1S"
      },
      "execution_count": 9,
      "outputs": []
    },
    {
      "cell_type": "code",
      "source": [
        "# modo r para a leitura, apenas\n",
        "arquivo = open('nomes.txt', 'r', encoding=\"utf-8\")\n",
        "\n",
        "conteudo = arquivo.read()\n",
        "conteudo"
      ],
      "metadata": {
        "colab": {
          "base_uri": "https://localhost:8080/",
          "height": 36
        },
        "id": "mb9elm6FCeI3",
        "outputId": "856fac48-fe75-4da0-ecb0-38ee6d12974f"
      },
      "execution_count": 10,
      "outputs": [
        {
          "output_type": "execute_result",
          "data": {
            "text/plain": [
              "'André\\nJoão\\nMaria\\n'"
            ],
            "application/vnd.google.colaboratory.intrinsic+json": {
              "type": "string"
            }
          },
          "metadata": {},
          "execution_count": 10
        }
      ]
    },
    {
      "cell_type": "code",
      "source": [
        "conteudo.split('\\n')"
      ],
      "metadata": {
        "colab": {
          "base_uri": "https://localhost:8080/"
        },
        "id": "vU7jtHehCmrV",
        "outputId": "88102598-7733-4c67-fce0-f467291a253b"
      },
      "execution_count": 11,
      "outputs": [
        {
          "output_type": "execute_result",
          "data": {
            "text/plain": [
              "['André', 'João', 'Maria', '']"
            ]
          },
          "metadata": {},
          "execution_count": 11
        }
      ]
    },
    {
      "cell_type": "code",
      "source": [
        "# modo r para a leitura, apenas\n",
        "arquivo = open('nomes.txt', 'r', encoding=\"utf-8\")\n",
        "\n",
        "# lê o conteúdo do arquivo\n",
        "conteudo = arquivo.read()\n",
        "\n",
        "arquivo.close()\n",
        "\n",
        "print(conteudo)"
      ],
      "metadata": {
        "colab": {
          "base_uri": "https://localhost:8080/"
        },
        "id": "o_4_kNgfCtO9",
        "outputId": "1585aed9-525e-44dc-f171-3490a459e5e5"
      },
      "execution_count": 12,
      "outputs": [
        {
          "output_type": "stream",
          "name": "stdout",
          "text": [
            "André\n",
            "João\n",
            "Maria\n",
            "\n"
          ]
        }
      ]
    },
    {
      "cell_type": "code",
      "source": [
        "import pandas as pd\n",
        "\n",
        "# Especifique o caminho do arquivo\n",
        "caminho_arquivo = '/content/nomes.txt'\n",
        "\n",
        "# Use read_csv para ler o arquivo de texto\n",
        "# O parâmetro sep define o delimitador (vírgula no caso)\n",
        "# O parâmetro names define os nomes das colunas\n",
        "dados = pd.read_csv(caminho_arquivo, sep=',', names=['Nomes'])\n",
        "\n",
        "# Exiba os dados\n",
        "print(dados)\n"
      ],
      "metadata": {
        "colab": {
          "base_uri": "https://localhost:8080/"
        },
        "id": "l-9qtUqgCxYa",
        "outputId": "50f7a055-7775-46de-8155-3a136f36ad69"
      },
      "execution_count": 13,
      "outputs": [
        {
          "output_type": "stream",
          "name": "stdout",
          "text": [
            "   Nomes\n",
            "0  André\n",
            "1   João\n",
            "2  Maria\n"
          ]
        }
      ]
    }
  ]
}